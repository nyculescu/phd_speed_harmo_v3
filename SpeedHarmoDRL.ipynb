{
  "cells": [
    {
      "cell_type": "markdown",
      "metadata": {
        "id": "view-in-github",
        "colab_type": "text"
      },
      "source": [
        "<a href=\"https://colab.research.google.com/github/nyculescu/phd_speed_harmo_v3/blob/simplified_project_ipynb/SpeedHarmoDRL.ipynb\" target=\"_parent\"><img src=\"https://colab.research.google.com/assets/colab-badge.svg\" alt=\"Open In Colab\"/></a>"
      ]
    },
    {
      "cell_type": "code",
      "execution_count": null,
      "metadata": {
        "id": "zVDIgXwx48qG"
      },
      "outputs": [],
      "source": [
        "!python main.py"
      ]
    },
    {
      "cell_type": "markdown",
      "source": [
        "# Intro\n",
        "\n",
        "# Traffic Flow Optimization Using Reinforcement Learning\n",
        "This notebook demonstrates how to use SUMO for traffic simulation and Stable Baselines 3 (SB3) for training a DQN agent to optimize Variable Speed Limits (VSL) in a Joint Lane Merge scenario."
      ],
      "metadata": {
        "id": "Lz-jNbPFiz80"
      }
    },
    {
      "cell_type": "markdown",
      "source": [
        "# Setup"
      ],
      "metadata": {
        "id": "Rz2DKnSei7Sg"
      }
    },
    {
      "cell_type": "code",
      "source": [
        "!pip install stable-baselines3\n",
        "\n",
        "# Import necessary libraries\n",
        "import os\n",
        "import sys\n",
        "import logging\n",
        "import numpy as np\n",
        "from stable_baselines3 import DQN\n",
        "from stable_baselines3.common.callbacks import EvalCallback, StopTrainingOnNoModelImprovement, CheckpointCallback\n",
        "from stable_baselines3.common.vec_env import SubprocVecEnv\n",
        "from stable_baselines3.common.monitor import Monitor\n",
        "from stable_baselines3.common.logger import configure\n",
        "from gymnasium.wrappers import TimeLimit\n",
        "\n",
        "# Configure logging\n",
        "logging.basicConfig(level=logging.DEBUG, format='%(asctime)s - %(levelname)s - %(message)s')\n",
        "\n",
        "# Set SUMO_HOME environment variable\n",
        "if 'SUMO_HOME' not in os.environ:\n",
        "    raise EnvironmentError(\"Please set the SUMO_HOME environment variable.\")\n",
        "tools = os.path.join(os.environ['SUMO_HOME'], 'tools')\n",
        "sys.path.append(tools)\n",
        "\n",
        "# Paths for output files\n",
        "output_dir = \"./traffic_environment/sumo\"\n",
        "os.makedirs(output_dir, exist_ok=True)\n"
      ],
      "metadata": {
        "id": "CruCIjZ9i3-L",
        "outputId": "d2cc8526-d5a2-4425-e0ae-d192417cc798",
        "colab": {
          "base_uri": "https://localhost:8080/",
          "height": 873
        }
      },
      "execution_count": 3,
      "outputs": [
        {
          "output_type": "stream",
          "name": "stdout",
          "text": [
            "Collecting stable-baselines3\n",
            "  Downloading stable_baselines3-2.4.0-py3-none-any.whl.metadata (4.5 kB)\n",
            "Collecting gymnasium<1.1.0,>=0.29.1 (from stable-baselines3)\n",
            "  Downloading gymnasium-1.0.0-py3-none-any.whl.metadata (9.5 kB)\n",
            "Requirement already satisfied: numpy<2.0,>=1.20 in /usr/local/lib/python3.10/dist-packages (from stable-baselines3) (1.26.4)\n",
            "Requirement already satisfied: torch>=1.13 in /usr/local/lib/python3.10/dist-packages (from stable-baselines3) (2.5.1+cu121)\n",
            "Requirement already satisfied: cloudpickle in /usr/local/lib/python3.10/dist-packages (from stable-baselines3) (3.1.0)\n",
            "Requirement already satisfied: pandas in /usr/local/lib/python3.10/dist-packages (from stable-baselines3) (2.2.2)\n",
            "Requirement already satisfied: matplotlib in /usr/local/lib/python3.10/dist-packages (from stable-baselines3) (3.8.0)\n",
            "Requirement already satisfied: typing-extensions>=4.3.0 in /usr/local/lib/python3.10/dist-packages (from gymnasium<1.1.0,>=0.29.1->stable-baselines3) (4.12.2)\n",
            "Collecting farama-notifications>=0.0.1 (from gymnasium<1.1.0,>=0.29.1->stable-baselines3)\n",
            "  Downloading Farama_Notifications-0.0.4-py3-none-any.whl.metadata (558 bytes)\n",
            "Requirement already satisfied: filelock in /usr/local/lib/python3.10/dist-packages (from torch>=1.13->stable-baselines3) (3.16.1)\n",
            "Requirement already satisfied: networkx in /usr/local/lib/python3.10/dist-packages (from torch>=1.13->stable-baselines3) (3.4.2)\n",
            "Requirement already satisfied: jinja2 in /usr/local/lib/python3.10/dist-packages (from torch>=1.13->stable-baselines3) (3.1.4)\n",
            "Requirement already satisfied: fsspec in /usr/local/lib/python3.10/dist-packages (from torch>=1.13->stable-baselines3) (2024.10.0)\n",
            "Requirement already satisfied: sympy==1.13.1 in /usr/local/lib/python3.10/dist-packages (from torch>=1.13->stable-baselines3) (1.13.1)\n",
            "Requirement already satisfied: mpmath<1.4,>=1.1.0 in /usr/local/lib/python3.10/dist-packages (from sympy==1.13.1->torch>=1.13->stable-baselines3) (1.3.0)\n",
            "Requirement already satisfied: contourpy>=1.0.1 in /usr/local/lib/python3.10/dist-packages (from matplotlib->stable-baselines3) (1.3.1)\n",
            "Requirement already satisfied: cycler>=0.10 in /usr/local/lib/python3.10/dist-packages (from matplotlib->stable-baselines3) (0.12.1)\n",
            "Requirement already satisfied: fonttools>=4.22.0 in /usr/local/lib/python3.10/dist-packages (from matplotlib->stable-baselines3) (4.55.3)\n",
            "Requirement already satisfied: kiwisolver>=1.0.1 in /usr/local/lib/python3.10/dist-packages (from matplotlib->stable-baselines3) (1.4.7)\n",
            "Requirement already satisfied: packaging>=20.0 in /usr/local/lib/python3.10/dist-packages (from matplotlib->stable-baselines3) (24.2)\n",
            "Requirement already satisfied: pillow>=6.2.0 in /usr/local/lib/python3.10/dist-packages (from matplotlib->stable-baselines3) (11.0.0)\n",
            "Requirement already satisfied: pyparsing>=2.3.1 in /usr/local/lib/python3.10/dist-packages (from matplotlib->stable-baselines3) (3.2.0)\n",
            "Requirement already satisfied: python-dateutil>=2.7 in /usr/local/lib/python3.10/dist-packages (from matplotlib->stable-baselines3) (2.8.2)\n",
            "Requirement already satisfied: pytz>=2020.1 in /usr/local/lib/python3.10/dist-packages (from pandas->stable-baselines3) (2024.2)\n",
            "Requirement already satisfied: tzdata>=2022.7 in /usr/local/lib/python3.10/dist-packages (from pandas->stable-baselines3) (2024.2)\n",
            "Requirement already satisfied: six>=1.5 in /usr/local/lib/python3.10/dist-packages (from python-dateutil>=2.7->matplotlib->stable-baselines3) (1.17.0)\n",
            "Requirement already satisfied: MarkupSafe>=2.0 in /usr/local/lib/python3.10/dist-packages (from jinja2->torch>=1.13->stable-baselines3) (3.0.2)\n",
            "Downloading stable_baselines3-2.4.0-py3-none-any.whl (183 kB)\n",
            "\u001b[2K   \u001b[90m━━━━━━━━━━━━━━━━━━━━━━━━━━━━━━━━━━━━━━━━\u001b[0m \u001b[32m183.9/183.9 kB\u001b[0m \u001b[31m15.9 MB/s\u001b[0m eta \u001b[36m0:00:00\u001b[0m\n",
            "\u001b[?25hDownloading gymnasium-1.0.0-py3-none-any.whl (958 kB)\n",
            "\u001b[2K   \u001b[90m━━━━━━━━━━━━━━━━━━━━━━━━━━━━━━━━━━━━━━━━\u001b[0m \u001b[32m958.1/958.1 kB\u001b[0m \u001b[31m55.5 MB/s\u001b[0m eta \u001b[36m0:00:00\u001b[0m\n",
            "\u001b[?25hDownloading Farama_Notifications-0.0.4-py3-none-any.whl (2.5 kB)\n",
            "Installing collected packages: farama-notifications, gymnasium, stable-baselines3\n",
            "Successfully installed farama-notifications-0.0.4 gymnasium-1.0.0 stable-baselines3-2.4.0\n"
          ]
        },
        {
          "output_type": "error",
          "ename": "OSError",
          "evalue": "Please set the SUMO_HOME environment variable.",
          "traceback": [
            "\u001b[0;31m---------------------------------------------------------------------------\u001b[0m",
            "\u001b[0;31mOSError\u001b[0m                                   Traceback (most recent call last)",
            "\u001b[0;32m<ipython-input-3-14ddc3389be1>\u001b[0m in \u001b[0;36m<cell line: 19>\u001b[0;34m()\u001b[0m\n\u001b[1;32m     18\u001b[0m \u001b[0;31m# Set SUMO_HOME environment variable\u001b[0m\u001b[0;34m\u001b[0m\u001b[0;34m\u001b[0m\u001b[0m\n\u001b[1;32m     19\u001b[0m \u001b[0;32mif\u001b[0m \u001b[0;34m'SUMO_HOME'\u001b[0m \u001b[0;32mnot\u001b[0m \u001b[0;32min\u001b[0m \u001b[0mos\u001b[0m\u001b[0;34m.\u001b[0m\u001b[0menviron\u001b[0m\u001b[0;34m:\u001b[0m\u001b[0;34m\u001b[0m\u001b[0;34m\u001b[0m\u001b[0m\n\u001b[0;32m---> 20\u001b[0;31m     \u001b[0;32mraise\u001b[0m \u001b[0mEnvironmentError\u001b[0m\u001b[0;34m(\u001b[0m\u001b[0;34m\"Please set the SUMO_HOME environment variable.\"\u001b[0m\u001b[0;34m)\u001b[0m\u001b[0;34m\u001b[0m\u001b[0;34m\u001b[0m\u001b[0m\n\u001b[0m\u001b[1;32m     21\u001b[0m \u001b[0mtools\u001b[0m \u001b[0;34m=\u001b[0m \u001b[0mos\u001b[0m\u001b[0;34m.\u001b[0m\u001b[0mpath\u001b[0m\u001b[0;34m.\u001b[0m\u001b[0mjoin\u001b[0m\u001b[0;34m(\u001b[0m\u001b[0mos\u001b[0m\u001b[0;34m.\u001b[0m\u001b[0menviron\u001b[0m\u001b[0;34m[\u001b[0m\u001b[0;34m'SUMO_HOME'\u001b[0m\u001b[0;34m]\u001b[0m\u001b[0;34m,\u001b[0m \u001b[0;34m'tools'\u001b[0m\u001b[0;34m)\u001b[0m\u001b[0;34m\u001b[0m\u001b[0;34m\u001b[0m\u001b[0m\n\u001b[1;32m     22\u001b[0m \u001b[0msys\u001b[0m\u001b[0;34m.\u001b[0m\u001b[0mpath\u001b[0m\u001b[0;34m.\u001b[0m\u001b[0mappend\u001b[0m\u001b[0;34m(\u001b[0m\u001b[0mtools\u001b[0m\u001b[0;34m)\u001b[0m\u001b[0;34m\u001b[0m\u001b[0;34m\u001b[0m\u001b[0m\n",
            "\u001b[0;31mOSError\u001b[0m: Please set the SUMO_HOME environment variable."
          ]
        }
      ]
    },
    {
      "cell_type": "markdown",
      "source": [
        "# SUMO Configuration"
      ],
      "metadata": {
        "id": "T0udHMN1i_HJ"
      }
    },
    {
      "cell_type": "code",
      "source": [
        "# Generate SUMO configuration files dynamically\n",
        "def create_sumocfg(model):\n",
        "    sumocfg_template = \"\"\"<?xml version=\"1.0\" encoding=\"UTF-8\"?>\n",
        "    <configuration xmlns:xsi=\"http://www.w3.org/2001/XMLSchema-instance\" xsi:noNamespaceSchemaLocation=\"http://sumo.dlr.de/xsd/sumoConfiguration.xsd\">\n",
        "        <input>\n",
        "            <net-file value=\"3_2_merge.net.xml\"/>\n",
        "            <route-files value=\"generated_flows_{model}_{index}.rou.xml\"/>\n",
        "            <additional-files value=\"loops_detectors.add.xml\"/>\n",
        "            <gui-settings-file value=\"colored.view.xml\"/>\n",
        "        </input>\n",
        "    </configuration>\n",
        "    \"\"\"\n",
        "    for i in range(num_envs_per_model):\n",
        "        filename = f\"3_2_merge_{model}_{i}.sumocfg\"\n",
        "        filepath = os.path.join(output_dir, filename)\n",
        "        content = sumocfg_template.format(model=model, index=i)\n",
        "        with open(filepath, 'w') as file:\n",
        "            file.write(content)\n"
      ],
      "metadata": {
        "id": "D_gjnuCAjDFo"
      },
      "execution_count": 1,
      "outputs": []
    },
    {
      "cell_type": "markdown",
      "source": [
        "# Traffic Simulation"
      ],
      "metadata": {
        "id": "j8RTu8wyjNJf"
      }
    },
    {
      "cell_type": "code",
      "source": [
        "# Visualize vehicle distributions (bimodal pattern)\n",
        "def plot_vehicle_distributions():\n",
        "    x_hours = np.arange(0, 24, 1)\n",
        "    y_vehicles = bimodal_distribution_24h()\n",
        "    plt.figure(figsize=(10, 6))\n",
        "    plt.plot(x_hours, y_vehicles, marker='o')\n",
        "    plt.title('Bimodal Distribution Over 24 Hours')\n",
        "    plt.xlabel('Hour of the Day')\n",
        "    plt.ylabel('Vehicle Density')\n",
        "    plt.grid(True)\n",
        "    plt.show()\n"
      ],
      "metadata": {
        "id": "mXV3y0CZjPrR"
      },
      "execution_count": null,
      "outputs": []
    },
    {
      "cell_type": "markdown",
      "source": [
        "# Reinforcement Learning Framework"
      ],
      "metadata": {
        "id": "7tbE-1qIjSYf"
      }
    },
    {
      "cell_type": "code",
      "source": [
        "# Define TrafficEnv class (simplified for clarity)\n",
        "class TrafficEnv(gym.Env):\n",
        "    def __init__(self, port, model_idx):\n",
        "        super().__init__()\n",
        "        self.speed_limits = np.arange(50, 135, 5)  # Discrete action space: [50 km/h to 130 km/h]\n",
        "        self.action_space = gym.spaces.Discrete(len(self.speed_limits))\n",
        "        self.observation_space = gym.spaces.Box(low=np.array([0]), high=np.array([130/3.6]), dtype=np.float64)\n",
        "\n",
        "    def step(self, action):\n",
        "        # Apply speed limit based on action\n",
        "        self.speed_limit = self.speed_limits[action]\n",
        "        # Simulate one step in SUMO and collect metrics (occupancy, speed, etc.)\n",
        "        # ...\n",
        "        return obs, reward, done, {}\n",
        "\n",
        "    def reset(self):\n",
        "        # Reset simulation environment\n",
        "        return obs\n",
        "\n",
        "# Instantiate training and evaluation environments\n",
        "train_env = SubprocVecEnv([lambda: Monitor(TrafficEnv(port=8000 + i)) for i in range(num_train_envs_per_model)])\n",
        "eval_env = SubprocVecEnv([lambda: Monitor(TrafficEnv(port=9000))])\n"
      ],
      "metadata": {
        "id": "liFtKxTrjYH-"
      },
      "execution_count": null,
      "outputs": []
    },
    {
      "cell_type": "markdown",
      "source": [
        "# Rule-Based Benchmark"
      ],
      "metadata": {
        "id": "iGFtgzyUjaCk"
      }
    },
    {
      "cell_type": "code",
      "source": [
        "# Implement rule-based logic for VSL control\n",
        "def rule_based_vsl(occupancy):\n",
        "    if occupancy > 80:\n",
        "        return 50  # Severe congestion\n",
        "    elif occupancy > 40:\n",
        "        return 80  # Moderate congestion\n",
        "    else:\n",
        "        return 130  # Free-flow conditions\n"
      ],
      "metadata": {
        "id": "amJmyUFVjcvp"
      },
      "execution_count": null,
      "outputs": []
    },
    {
      "cell_type": "markdown",
      "source": [
        "# Training and Evaluation"
      ],
      "metadata": {
        "id": "4qLoIRSjjghU"
      }
    },
    {
      "cell_type": "code",
      "source": [
        "# Train DQN model with callbacks for evaluation and checkpointing\n",
        "model = DQN(\"MlpPolicy\", train_env, verbose=1)\n",
        "model.learn(total_timesteps=100000)\n",
        "\n",
        "# Evaluate the trained model on test scenarios\n",
        "obs = eval_env.reset()\n",
        "done = False\n",
        "while not done:\n",
        "    action, _states = model.predict(obs)\n",
        "    obs, reward, done, info = eval_env.step(action)\n"
      ],
      "metadata": {
        "id": "Eb8gtCF0jjx5"
      },
      "execution_count": null,
      "outputs": []
    },
    {
      "cell_type": "markdown",
      "source": [
        "# Visualization"
      ],
      "metadata": {
        "id": "CuhNwiLMjlP4"
      }
    },
    {
      "cell_type": "code",
      "source": [
        "# Visualize results: rewards over time, emissions reduction, etc.\n",
        "plt.plot(rewards)\n",
        "plt.title('Reward Over Time')\n",
        "plt.xlabel('Episode')\n",
        "plt.ylabel('Reward')\n",
        "plt.show()\n"
      ],
      "metadata": {
        "id": "5LoTGsiojn-J"
      },
      "execution_count": null,
      "outputs": []
    }
  ],
  "metadata": {
    "accelerator": "GPU",
    "colab": {
      "gpuType": "T4",
      "provenance": [],
      "include_colab_link": true
    },
    "kernelspec": {
      "display_name": "Python 3",
      "name": "python3"
    },
    "language_info": {
      "codemirror_mode": {
        "name": "ipython",
        "version": 3
      },
      "file_extension": ".py",
      "mimetype": "text/x-python",
      "name": "python",
      "nbconvert_exporter": "python",
      "pygments_lexer": "ipython3",
      "version": "3.7.9"
    }
  },
  "nbformat": 4,
  "nbformat_minor": 0
}